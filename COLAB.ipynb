{
  "nbformat": 4,
  "nbformat_minor": 0,
  "metadata": {
    "colab": {
      "name": "Colab.ipynb",
      "provenance": [],
      "collapsed_sections": [],
      "private_outputs": true
    },
    "kernelspec": {
      "name": "python3",
      "display_name": "Python 3"
    },
    "language_info": {
      "name": "python"
    },
    "gpuClass": "standard"
  },
  "cells": [
    {
      "cell_type": "code",
      "execution_count": null,
      "metadata": {
        "id": "XGA8rrLbbxx-",
        "cellView": "form"
      },
      "outputs": [],
      "source": [
        "#@title Install packages\n",
        "%cd /content/\n",
        "!apt install ca-certificates \\\n",
        "software-properties-common \\\n",
        "&& add-apt-repository -y ppa:savoury1/ffmpeg4 >/dev/null \\\n",
        "&& add-apt-repository -y ppa:savoury1/display >/dev/null\n",
        "!apt install ffmpeg wget curl\n",
        "!wget https://github.com/KurisuMakise004/MMD2UDP/raw/main/MMD2UDP_linux.7z"
      ]
    },
    {
      "cell_type": "code",
      "source": [
        "#@title Upload your `model.zip`, `motion.vmd`, and `camera.vmd` to `/content/`\n",
        "\n",
        "#@markdown `model.zip` **must be a ZIP archive** with with all your MMD files (your_model.pmx/vrm, and textures). \n",
        "\n",
        "#@markdown Note that tar, 7z, rar, or other formats are not supported."
      ],
      "metadata": {
        "cellView": "form",
        "id": "1mWGGGsdaWWW"
      },
      "execution_count": null,
      "outputs": []
    },
    {
      "cell_type": "code",
      "source": [
        "#@title Generate UltraDensePose Sequence\n",
        "\n",
        "#@markdown Output will be placed at `/content/udp/output` \n",
        "\n",
        "#@markdown  The process might take very long for models with complicated physics setups, as the conversion process need to go through your motion.vmd and compute for each frame to obtain an UltraDensePose sequence.\n",
        "\n",
        "%cd /content/\n",
        "!rm -r ./udp\n",
        "!7z x ./MMD2UDP_linux.7z\n",
        "!cp model.zip ./udp/\n",
        "!cp motion.vmd ./udp/\n",
        "!cp camera.vmd ./udp/\n",
        "!cd ./udp/ && chmod +x ./udp && ./udp"
      ],
      "metadata": {
        "id": "_kJJT7IstJJ7",
        "cellView": "form"
      },
      "execution_count": null,
      "outputs": []
    }
  ]
}